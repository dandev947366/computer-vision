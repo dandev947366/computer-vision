{
 "cells": [
  {
   "cell_type": "markdown",
   "metadata": {},
   "source": [
    "Computer Vision with Python, OpenCV, Pytorch"
   ]
  },
  {
   "cell_type": "markdown",
   "metadata": {},
   "source": [
    "Using Scipy"
   ]
  },
  {
   "cell_type": "code",
   "execution_count": 4,
   "metadata": {},
   "outputs": [],
   "source": [
    "from PIL import Image\n",
    "from scipy import linalg\n",
    "import numpy as np"
   ]
  },
  {
   "cell_type": "code",
   "execution_count": 9,
   "metadata": {},
   "outputs": [
    {
     "name": "stdout",
     "output_type": "stream",
     "text": [
      "[ 3. -1.]\n"
     ]
    }
   ],
   "source": [
    "A = np.array([[2,1],[3,2]])\n",
    "B = np.array([5,7])\n",
    "\n",
    "x = linalg.solve(A, B)\n",
    "print(x)"
   ]
  },
  {
   "cell_type": "code",
   "execution_count": 10,
   "metadata": {},
   "outputs": [
    {
     "name": "stdout",
     "output_type": "stream",
     "text": [
      "(0.3333333333333333, 3.700743415417188e-15)\n"
     ]
    }
   ],
   "source": [
    "from scipy import integrate\n",
    "\n",
    "def my_function(x):\n",
    "    return x**2\n",
    "\n",
    "integral = integrate.quad(my_function,0,1)\n",
    "print(integral)"
   ]
  },
  {
   "cell_type": "code",
   "execution_count": 11,
   "metadata": {},
   "outputs": [
    {
     "name": "stdout",
     "output_type": "stream",
     "text": [
      "Value:  [3.73205081+0.j 0.26794919+0.j]\n",
      "Vector value:  [[ 0.5       -0.5      ]\n",
      " [ 0.8660254  0.8660254]]\n"
     ]
    }
   ],
   "source": [
    "A = np.array([[2,1],[3,2]])\n",
    "evals, evecs = linalg.eig(A)\n",
    "print(\"Value: \", evals)\n",
    "print(\"Vector value: \", evecs)\n"
   ]
  },
  {
   "cell_type": "code",
   "execution_count": null,
   "metadata": {},
   "outputs": [],
   "source": []
  }
 ],
 "metadata": {
  "kernelspec": {
   "display_name": "venv",
   "language": "python",
   "name": "python3"
  },
  "language_info": {
   "codemirror_mode": {
    "name": "ipython",
    "version": 3
   },
   "file_extension": ".py",
   "mimetype": "text/x-python",
   "name": "python",
   "nbconvert_exporter": "python",
   "pygments_lexer": "ipython3",
   "version": "3.12.0"
  }
 },
 "nbformat": 4,
 "nbformat_minor": 2
}
